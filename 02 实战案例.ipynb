{
 "metadata": {
  "language_info": {
   "codemirror_mode": {
    "name": "ipython",
    "version": 3
   },
   "file_extension": ".py",
   "mimetype": "text/x-python",
   "name": "python",
   "nbconvert_exporter": "python",
   "pygments_lexer": "ipython3",
   "version": "3.8.5-final"
  },
  "orig_nbformat": 2,
  "kernelspec": {
   "name": "python3",
   "display_name": "Python 3",
   "language": "python"
  }
 },
 "nbformat": 4,
 "nbformat_minor": 2,
 "cells": [
  {
   "source": [
    "# 2 项目实操\n",
    "本章将完整地进行一个项目实操，以便更加深刻理解第1章中提及的建模流程。其中，部分独立、高频、用法相对固定的模块在本章中一次性介绍完毕。\n",
    "## 2.1 项目背景\n",
    "在开展建模工作前，以下信息必须确认：\n",
    "- 建模目标：因建模任务出自业务需求，故**商业目标**乃唯一目标。\n",
    "- 预期收益：需明确商业目标的评价标准，如存在当前解决方案，需获取目标值及当下不足点；如无现有方案，应获取参考值。\n",
    "- 应用方案：当模型建立完毕后，未来业务中部署和使用方案。\n",
    "\n",
    "以上三点，共同决定了数据收集的范围、机器学习的类别，优先选择的算法，模型评价的指标及其精度、后续维护成本等。\n",
    "\n",
    "下面任务开始：\n",
    "```\n",
    "假设你是一名汽车预测油耗\n",
    "\n",
    "MPG：油耗，一加仑油跑多少英里\n",
    "本文使用 Auto MPG 数据集，文章基于此数据集构建了一个用来预测70年代末到80年代初汽车燃油效率的模型。数据集提供了汽车相关描述，包含：气缸数，排量，马力以及重量等（这些统称为属性）。\n",
    "\n",
    "属性信息：\n",
    "1.英里/加仑:连续值\n",
    "2.气缸:离散值\n",
    "3.位移:连续值\n",
    "4.马力:连续值\n",
    "5.重量:连续值\n",
    "6.加速度:连续值\n",
    "7.模型年份:离散值\n",
    "8.产地:离散值\n",
    "9.汽车品牌:字符串\n",
    "```\n",
    "\n",
    "\n",
    "## 2.2 数据处理\n",
    "- 获取[Auto MPG](https://archive.ics.uci.edu/ml/datasets/Auto+MPG)数据\n"
   ],
   "cell_type": "markdown",
   "metadata": {}
  },
  {
   "cell_type": "code",
   "execution_count": 14,
   "metadata": {},
   "outputs": [
    {
     "output_type": "execute_result",
     "data": {
      "text/plain": [
       "      0  1      2      3       4     5   6  7                          8\n",
       "0  18.0  8  307.0  130.0  3504.0  12.0  70  1  chevrolet chevelle malibu\n",
       "1  15.0  8  350.0  165.0  3693.0  11.5  70  1          buick skylark 320\n",
       "2  18.0  8  318.0  150.0  3436.0  11.0  70  1         plymouth satellite\n",
       "3  16.0  8  304.0  150.0  3433.0  12.0  70  1              amc rebel sst\n",
       "4  17.0  8  302.0  140.0  3449.0  10.5  70  1                ford torino"
      ],
      "text/html": "<div>\n<style scoped>\n    .dataframe tbody tr th:only-of-type {\n        vertical-align: middle;\n    }\n\n    .dataframe tbody tr th {\n        vertical-align: top;\n    }\n\n    .dataframe thead th {\n        text-align: right;\n    }\n</style>\n<table border=\"1\" class=\"dataframe\">\n  <thead>\n    <tr style=\"text-align: right;\">\n      <th></th>\n      <th>0</th>\n      <th>1</th>\n      <th>2</th>\n      <th>3</th>\n      <th>4</th>\n      <th>5</th>\n      <th>6</th>\n      <th>7</th>\n      <th>8</th>\n    </tr>\n  </thead>\n  <tbody>\n    <tr>\n      <th>0</th>\n      <td>18.0</td>\n      <td>8</td>\n      <td>307.0</td>\n      <td>130.0</td>\n      <td>3504.0</td>\n      <td>12.0</td>\n      <td>70</td>\n      <td>1</td>\n      <td>chevrolet chevelle malibu</td>\n    </tr>\n    <tr>\n      <th>1</th>\n      <td>15.0</td>\n      <td>8</td>\n      <td>350.0</td>\n      <td>165.0</td>\n      <td>3693.0</td>\n      <td>11.5</td>\n      <td>70</td>\n      <td>1</td>\n      <td>buick skylark 320</td>\n    </tr>\n    <tr>\n      <th>2</th>\n      <td>18.0</td>\n      <td>8</td>\n      <td>318.0</td>\n      <td>150.0</td>\n      <td>3436.0</td>\n      <td>11.0</td>\n      <td>70</td>\n      <td>1</td>\n      <td>plymouth satellite</td>\n    </tr>\n    <tr>\n      <th>3</th>\n      <td>16.0</td>\n      <td>8</td>\n      <td>304.0</td>\n      <td>150.0</td>\n      <td>3433.0</td>\n      <td>12.0</td>\n      <td>70</td>\n      <td>1</td>\n      <td>amc rebel sst</td>\n    </tr>\n    <tr>\n      <th>4</th>\n      <td>17.0</td>\n      <td>8</td>\n      <td>302.0</td>\n      <td>140.0</td>\n      <td>3449.0</td>\n      <td>10.5</td>\n      <td>70</td>\n      <td>1</td>\n      <td>ford torino</td>\n    </tr>\n  </tbody>\n</table>\n</div>"
     },
     "metadata": {},
     "execution_count": 14
    }
   ],
   "source": [
    "import pandas as pd\n",
    "auto_mpg = pd.read_table('https://archive.ics.uci.edu/ml/machine-learning-databases/auto-mpg/auto-mpg.data',header=None,sep='\\s+')\n",
    "auto_mpg.columns = ['mpg','cylinders','displacement','horsepower','weight','acceleration','model_year','origin','car_name']\n",
    "auto_mpg.head()"
   ]
  },
  {
   "source": [
    "可视化数据\n",
    "准备数据\n",
    "\n",
    "## 2.3 模型设计\n",
    "选择模型\n",
    "进行训练\n",
    "微调模型\n",
    "## 2.4 模型评估\n",
    "\n",
    "## 2.5 应用模型\n",
    "保存\n",
    "部署\n",
    "监控\n",
    "维护"
   ],
   "cell_type": "markdown",
   "metadata": {}
  }
 ]
}