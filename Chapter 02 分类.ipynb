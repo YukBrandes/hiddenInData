{
 "cells": [
  {
   "cell_type": "markdown",
   "metadata": {},
   "source": [
    "# 1 综述\n",
    "本章节集中讨论机器学习中要解决的第二个现实问题：分类，主要包含以下几个形式：\n",
    "1. 二分类：样本有且仅有互斥的两个类别，单一样本仅从属于其中一个类列；比如，识别一个信贷用户是否是欺诈用户。\n",
    "2. 多分类：样本有互斥的多个类别，单一样本仅从属于其中一个类列；比如，识别一个水果是苹果、梨及香蕉等。\n",
    "3. 多标签分类：样本有多个类别，单一样本属于其中一个或多个类列；比如，一篇新闻从属的标签：新闻、军事及国内等。\n",
    "4. 多输出-多类分类（简称多输出分类）：多标签分类的简单泛化，在这里每一个标签可以是多类别的/不同的数值；比如针对多分类中的新闻问题，我们可能要追加预测一级标签报社名。\n",
    "\n",
    "案例基于美国高中生和人口调查局职员手写的 **7w** 张数字图片（28\\*28）[MNIST](https://www.openml.org/d/554)数据集进行演练："
   ]
  },
  {
   "cell_type": "code",
   "execution_count": 1,
   "metadata": {},
   "outputs": [
    {
     "data": {
      "text/plain": [
       "(-0.5, 27.5, 27.5, -0.5)"
      ]
     },
     "execution_count": 1,
     "metadata": {},
     "output_type": "execute_result"
    },
    {
     "data": {
      "image/png": "[encoded data removed]",
      "text/plain": [
       "<Figure size 432x288 with 1 Axes>"
      ]
     },
     "metadata": {
      "needs_background": "light"
     },
     "output_type": "display_data"
    }
   ],
   "source": [
    "import numpy as np\n",
    "import pandas as pd\n",
    "from pandas import Series,DataFrame\n",
    "import matplotlib\n",
    "import matplotlib.pyplot as plt\n",
    "from sklearn.datasets import fetch_openml\n",
    "\n",
    "def GetData(name,dtype):\n",
    "    X,y = fetch_openml(name,version=1,return_X_y=True,as_frame=False)\n",
    "    data = np.hstack((X,y[:,None].astype(dtype)))\n",
    "    np.random.seed(11)\n",
    "    np.random.shuffle(data) # 乱序排列数据，避免数据顺序对后续分析和算法效果的影响\n",
    "    X = data[:,:data.shape[1]-1]\n",
    "    y = data[:,-1]\n",
    "    return X,y\n",
    "\n",
    "X,y = GetData('mnist_784',int)\n",
    "\n",
    "plt.imshow(X[0].reshape(28,28),\n",
    "           cmap = 'gray', # 颜色图谱\n",
    "           interpolation=\"nearest\") # 插值方法\n",
    "plt.axis(\"off\") # 去除坐标轴"
   ]
  },
  {
   "cell_type": "markdown",
   "metadata": {},
   "source": [
    "# 2 二分类\n",
    "稍作变换，将原始的y从0~9的标签转换为识别 **5** & **非5** 的二分类问题，然后我们层级渐进的进行二分类建模，梳理如下：\n",
    "1. 直接建模：展示建模流程，梳理分类模型评价指标。\n",
    "2. 叠加数据预处理：评估数据预处理的重要性。\n",
    "3. 叠加交叉验证调参：评估参数的重要性。\n",
    "4. 更换非线性模型\n",
    "\n",
    "## 2.1 SGD分类模型\n",
    "- 标签生成："
   ]
  },
  {
   "cell_type": "code",
   "execution_count": 2,
   "metadata": {},
   "outputs": [],
   "source": [
    "y_bin = (y == 5) + 0"
   ]
  },
  {
   "cell_type": "markdown",
   "metadata": {},
   "source": [
    "- 切分数据："
   ]
  },
  {
   "cell_type": "code",
   "execution_count": 3,
   "metadata": {},
   "outputs": [],
   "source": [
    "from sklearn.model_selection import train_test_split\n",
    "x_train,x_test,y_train,y_test = train_test_split(X,y_bin,test_size=0.3,random_state=7)"
   ]
  },
  {
   "cell_type": "markdown",
   "metadata": {},
   "source": [
    "- 模型训练："
   ]
  },
  {
   "cell_type": "code",
   "execution_count": 4,
   "metadata": {},
   "outputs": [
    {
     "data": {
      "text/plain": [
       "SGDClassifier(random_state=7)"
      ]
     },
     "execution_count": 4,
     "metadata": {},
     "output_type": "execute_result"
    }
   ],
   "source": [
    "from sklearn.linear_model import SGDClassifier\n",
    "sgd = SGDClassifier(random_state=7) # 因为随机梯度下降，设定随机种子\n",
    "sgd.fit(x_train,y_train)"
   ]
  },
  {
   "cell_type": "markdown",
   "metadata": {},
   "source": [
    "- 模型预测："
   ]
  },
  {
   "cell_type": "code",
   "execution_count": 5,
   "metadata": {},
   "outputs": [],
   "source": [
    "y_train_pred = sgd.predict(x_train)# 输出预测值 sgd.decision_function(x_train)"
   ]
  },
  {
   "cell_type": "markdown",
   "metadata": {},
   "source": [
    "- 模型评估："
   ]
  },
  {
   "cell_type": "code",
   "execution_count": 6,
   "metadata": {},
   "outputs": [
    {
     "name": "stdout",
     "output_type": "stream",
     "text": [
      "目标浓度：\n",
      "0    0.910286\n",
      "1    0.089714\n",
      "dtype: float64\n",
      "\n",
      "混淆矩阵：\n",
      "[[44235   369]\n",
      " [ 1440  2956]]\n",
      "准确率：0.8890225563909775\n",
      "召回率：0.6724294813466788\n",
      "F1 值：0.7657039243621293\n",
      "ROC：0.8320783403504983\n"
     ]
    }
   ],
   "source": [
    "from sklearn.metrics import confusion_matrix,precision_score,recall_score,f1_score,roc_auc_score\n",
    "\n",
    "def BinEvaluate(y,y_pred):\n",
    "    print('目标浓度：')\n",
    "    print(Series(y).value_counts()/len(y))\n",
    "    print('\\n混淆矩阵：')\n",
    "    print(confusion_matrix(y,y_pred)) # 行：y，列：y-pred\n",
    "    print('准确率：%s' % (precision_score(y,y_pred))) # 预测某分类中 *% 的可能性是正确的\n",
    "    print('召回率：%s' % (recall_score(y,y_pred))) # 实际某分类中 *% 的真值被识别\n",
    "    print('F1 值：%s' % (f1_score(y,y_pred))) #  高 F1 值，需要召回率和准确率同时高\n",
    "    print('ROC：%s' % (roc_auc_score(y,y_pred)))\n",
    "\n",
    "BinEvaluate(y_train,y_train_pred)"
   ]
  },
  {
   "cell_type": "markdown",
   "metadata": {},
   "source": [
    "从评价指标可以看出，召回率不尽如人意，所以评估分类模型时，**不建议使用准确率作为评价指标**，因为当样本比严重失衡时，将全部结果预测为占绝对多数的单一类别时，准确率也极高，然而那样的模型是没有实际意义的。\n",
    "\n",
    "## 2.2 叠加数据预处理\n",
    "- 归一化："
   ]
  },
  {
   "cell_type": "code",
   "execution_count": 7,
   "metadata": {},
   "outputs": [],
   "source": [
    "from sklearn.preprocessing import MinMaxScaler\n",
    "mm = MinMaxScaler()\n",
    "x_train_new = mm.fit_transform(x_train)\n",
    "x_test_new = mm.transform(x_test)# 必须使用训练集的转换标准转换测试集"
   ]
  },
  {
   "cell_type": "markdown",
   "metadata": {},
   "source": [
    "- 模型的训练 & 评估："
   ]
  },
  {
   "cell_type": "code",
   "execution_count": 8,
   "metadata": {},
   "outputs": [
    {
     "name": "stdout",
     "output_type": "stream",
     "text": [
      "目标浓度：\n",
      "0    0.910286\n",
      "1    0.089714\n",
      "dtype: float64\n",
      "\n",
      "混淆矩阵：\n",
      "[[44432   172]\n",
      " [  990  3406]]\n",
      "准确率：0.9519284516489659\n",
      "召回率：0.7747952684258417\n",
      "F1 值：0.854276398294457\n",
      "ROC：0.8854695560136562\n"
     ]
    }
   ],
   "source": [
    "# 训练\n",
    "sgd = SGDClassifier(random_state=7)\n",
    "sgd.fit(x_train_new,y_train)\n",
    "# 评估\n",
    "BinEvaluate(y_train,sgd.predict(x_train_new))"
   ]
  },
  {
   "cell_type": "markdown",
   "metadata": {},
   "source": [
    "经过归一化后的数据建模效果得到了较大的提升，其中召回率提升明显。\n",
    "## 2.3 叠加交叉验证调参\n",
    "因为上文中表达了准确率的缺陷，综合准确率和召回率的F1值对交叉验证进行评估。\n",
    "### 2.3.1 基于 *2.1* 叠加5折交叉验证"
   ]
  },
  {
   "cell_type": "code",
   "execution_count": 9,
   "metadata": {},
   "outputs": [
    {
     "data": {
      "text/plain": [
       "array([0.74821514, 0.8117506 , 0.78548695, 0.81288724, 0.76979167])"
      ]
     },
     "execution_count": 9,
     "metadata": {},
     "output_type": "execute_result"
    }
   ],
   "source": [
    "from sklearn.model_selection import cross_val_score\n",
    "sgd = SGDClassifier(random_state=7)\n",
    "cross_val_score(sgd,x_train,y_train,cv=5,scoring='f1')"
   ]
  },
  {
   "cell_type": "markdown",
   "metadata": {},
   "source": [
    "### 2.3.2 基于 *2.2* 叠加5折交叉验证"
   ]
  },
  {
   "cell_type": "code",
   "execution_count": 10,
   "metadata": {},
   "outputs": [
    {
     "data": {
      "text/plain": [
       "array([0.86305539, 0.84530064, 0.8283208 , 0.85859729, 0.84741641])"
      ]
     },
     "execution_count": 10,
     "metadata": {},
     "output_type": "execute_result"
    }
   ],
   "source": [
    "sgd = SGDClassifier(random_state=7)\n",
    "cross_val_score(sgd,x_train_new,y_train,cv=5,scoring='f1')"
   ]
  },
  {
   "cell_type": "markdown",
   "metadata": {},
   "source": [
    "通过交叉验证比较，我们可以发现归一化对模型的提升是很显著的、稳定的，所以我们使用归一化后建立的模型进行下一步分析。\n",
    "### 2.3.3 调参\n",
    "我们对**随机种子**的数值进行下评估："
   ]
  },
  {
   "cell_type": "code",
   "execution_count": 11,
   "metadata": {},
   "outputs": [
    {
     "name": "stdout",
     "output_type": "stream",
     "text": [
      "随机种子：0,平均F1值：0.830751747067214。\n",
      "随机种子：1,平均F1值：0.8558710462462388。\n",
      "随机种子：2,平均F1值：0.8311852923297757。\n",
      "随机种子：3,平均F1值：0.8368578007938068。\n",
      "随机种子：4,平均F1值：0.8462409496237802。\n",
      "随机种子：5,平均F1值：0.8474147274409297。\n",
      "随机种子：6,平均F1值：0.8187530528265754。\n",
      "随机种子：7,平均F1值：0.8485381058166311。\n",
      "随机种子：8,平均F1值：0.8438734396861479。\n",
      "随机种子：9,平均F1值：0.8235415881732104。\n"
     ]
    }
   ],
   "source": [
    "for i in range(10):\n",
    "    sgd = SGDClassifier(random_state=i)\n",
    "    f1 = cross_val_score(sgd,x_train_new,y_train,cv=5,scoring='f1')\n",
    "    print('随机种子：%s,平均F1值：%s。' % (i,np.mean(f1)))"
   ]
  },
  {
   "cell_type": "markdown",
   "metadata": {},
   "source": [
    "选定数字 **1** 作为随机种子，建立模型并评估在测试集上的效果。"
   ]
  },
  {
   "cell_type": "code",
   "execution_count": 12,
   "metadata": {},
   "outputs": [
    {
     "name": "stdout",
     "output_type": "stream",
     "text": [
      "训练集：\n",
      "目标浓度：\n",
      "0    0.910286\n",
      "1    0.089714\n",
      "dtype: float64\n",
      "\n",
      "混淆矩阵：\n",
      "[[44152   452]\n",
      " [  658  3738]]\n",
      "准确率：0.8921241050119332\n",
      "召回率：0.8503184713375797\n",
      "F1 值：0.8707197763801537\n",
      "ROC：0.9200924255172339\n",
      "\n",
      "测试集：\n",
      "目标浓度：\n",
      "0    0.908714\n",
      "1    0.091286\n",
      "dtype: float64\n",
      "\n",
      "混淆矩阵：\n",
      "[[18875   208]\n",
      " [  305  1612]]\n",
      "准确率：0.8857142857142857\n",
      "召回率：0.8408972352634324\n",
      "F1 值：0.8627241102488628\n",
      "ROC：0.914998740777972\n"
     ]
    }
   ],
   "source": [
    "from sklearn.model_selection import cross_val_predict\n",
    "sgd = SGDClassifier(random_state=1)\n",
    "sgd.fit(x_train_new,y_train)\n",
    "print('训练集：')\n",
    "pred_train = sgd.predict(x_train_new)\n",
    "BinEvaluate(y_train,pred_train)\n",
    "print('\\n测试集：')\n",
    "pred_test = sgd.predict(x_test_new)\n",
    "BinEvaluate(y_test,pred_test)"
   ]
  },
  {
   "cell_type": "markdown",
   "metadata": {},
   "source": [
    "预测效果还是令人满意的，衰变也不是很严重。\n",
    "## 2.4 随机森林建模\n",
    "我们知道图像识别应该不太适用于SGD线性分类，所以我们准备将模型换成随机森林来比较下:"
   ]
  },
  {
   "cell_type": "code",
   "execution_count": 13,
   "metadata": {},
   "outputs": [
    {
     "name": "stdout",
     "output_type": "stream",
     "text": [
      "训练集：\n",
      "目标浓度：\n",
      "0    0.910286\n",
      "1    0.089714\n",
      "dtype: float64\n",
      "\n",
      "混淆矩阵：\n",
      "[[44594    10]\n",
      " [  444  3952]]\n",
      "准确率：0.9974760222110045\n",
      "召回率：0.8989990900818926\n",
      "F1 值：0.9456807848767648\n",
      "ROC：0.9493874474712216\n",
      "\n",
      "测试集：\n",
      "目标浓度：\n",
      "0    0.908714\n",
      "1    0.091286\n",
      "dtype: float64\n",
      "\n",
      "混淆矩阵：\n",
      "[[19058    25]\n",
      " [  293  1624]]\n",
      "准确率：0.9848392965433597\n",
      "召回率：0.8471570161711007\n",
      "F1 值：0.9108244531688167\n",
      "ROC：0.9229234748098599\n"
     ]
    },
    {
     "data": {
      "image/png": "[encoded data removed]",
      "text/plain": [
       "<Figure size 432x288 with 1 Axes>"
      ]
     },
     "metadata": {
      "needs_background": "light"
     },
     "output_type": "display_data"
    }
   ],
   "source": [
    "from sklearn.ensemble import RandomForestClassifier\n",
    "from sklearn.metrics import roc_curve\n",
    "\n",
    "def PltRoc(y_train,y_test,pred_train,pred_test):\n",
    "    fpr_train,tpr_train,thresholds_train = roc_curve(y_train,pred_train)\n",
    "    fpr_test,tpr_test,thresholds_test = roc_curve(y_test,pred_test)\n",
    "    plt.axis([0,1,0,1])\n",
    "    plt.xlabel('False Positive Rate')\n",
    "    plt.ylabel('True Positive Rate')\n",
    "    plt.plot([0, 1], [0, 1], 'k--')\n",
    "    plt.plot(fpr_train,tpr_train,label='train')\n",
    "    plt.plot(fpr_test,tpr_test,label='test')\n",
    "    plt.legend(loc=\"right\")\n",
    "    plt.title('ROC')\n",
    "    plt.show()\n",
    "\n",
    "rf = RandomForestClassifier(n_estimators=200,\n",
    "                            criterion='entropy', # gini/entropy\n",
    "                            max_depth=None,\n",
    "                            min_samples_split=50,\n",
    "                            max_features='auto',\n",
    "                            n_jobs=-1,\n",
    "                            random_state=7)\n",
    "\n",
    "rf.fit(x_train_new,y_train)\n",
    "\n",
    "print('训练集：')\n",
    "pred_train = rf.predict(x_train_new)\n",
    "BinEvaluate(y_train,pred_train)\n",
    "\n",
    "print('\\n测试集：')\n",
    "pred_test = rf.predict(x_test_new)\n",
    "BinEvaluate(y_test,pred_test)\n",
    "\n",
    "pred_proba_train = rf.predict_proba(x_train_new)[:,1]\n",
    "pred_proba_test = rf.predict_proba(x_test_new)[:,1]\n",
    "\n",
    "PltRoc(y_train,y_test,pred_proba_train,pred_proba_test)"
   ]
  },
  {
   "cell_type": "markdown",
   "metadata": {},
   "source": [
    "识别精度有了显著的提升，随机森林中又有多个参数可以调参，如果叠加交叉验证进行调参的话说不定会有更好的结果。不过，由于随机森林参数多，参数间存在相互影响，所以后面我们会介绍一种超参数搜索的方法，此处就不展开了。\n",
    "# 3 多分类\n",
    "下面我们来看看多分类问题，能想到的一种简单的方法除了直接进行多类的判别外，另一种就是将多类问题拆解成多个二分类问题（有些算法是严格的二分类算法），所以有如下思路：\n",
    "1. 直接处理多分类：随机森林、朴素贝叶斯等。\n",
    "2. 一对所有（OvA）：构建与类别数目 **N** 等同的 **N** 个互斥二分类器，单个分类器将某类作为正例，其余作为反例，选择决策分数最高的类别作为最终分类结果。\n",
    "3. 一对一（OvO）：将 **N** 个类别中的数据基于类别两两配对，构建 **N\\*(N−1)/2** 个二分类器，多个分类器基于类别结果投票决定最终分类结果。\n",
    "\n",
    "## 3.1 多分类建模\n",
    "我们将原来的问题从判断 **5** & **非5** 的问题回归到分类 **0~9** 的识别上："
   ]
  },
  {
   "cell_type": "code",
   "execution_count": 14,
   "metadata": {},
   "outputs": [
    {
     "data": {
      "text/plain": [
       "array([5., 8., 1., ..., 6., 6., 5.])"
      ]
     },
     "execution_count": 14,
     "metadata": {},
     "output_type": "execute_result"
    }
   ],
   "source": [
    "x_train,x_test,y_train,y_test = train_test_split(X,y,test_size=0.3,random_state=7)\n",
    "\n",
    "mm = MinMaxScaler() # 也可以试试标准化：StandardScaler\n",
    "x_train_mm = mm.fit_transform(x_train)\n",
    "x_test_mm = mm.transform(x_test)\n",
    "\n",
    "sgd = SGDClassifier()\n",
    "sgd.fit(x_train,y_train)\n",
    "\n",
    "sgd.predict(x_train)"
   ]
  },
  {
   "cell_type": "markdown",
   "metadata": {},
   "source": [
    "打开模型预测分类的生成机制，我们将探索sklearn中 **sgd** 默认处理多分类问题的策略："
   ]
  },
  {
   "cell_type": "code",
   "execution_count": 15,
   "metadata": {},
   "outputs": [
    {
     "data": {
      "text/plain": [
       "(49000, 10)"
      ]
     },
     "execution_count": 15,
     "metadata": {},
     "output_type": "execute_result"
    }
   ],
   "source": [
    "sgd.decision_function(x_train).shape"
   ]
  },
  {
   "cell_type": "code",
   "execution_count": 16,
   "metadata": {},
   "outputs": [
    {
     "data": {
      "text/plain": [
       "(49000,)"
      ]
     },
     "execution_count": 16,
     "metadata": {},
     "output_type": "execute_result"
    }
   ],
   "source": [
    "y_train.shape"
   ]
  },
  {
   "cell_type": "code",
   "execution_count": 17,
   "metadata": {},
   "outputs": [
    {
     "data": {
      "text/plain": [
       "array([ -2259.72383303, -53493.38714544, -17356.960948  ,   2170.80167089,\n",
       "       -14491.22896512,   3910.98900627, -32712.93537836, -25197.44935947,\n",
       "        -6997.54708433,  -8510.03911052])"
      ]
     },
     "execution_count": 17,
     "metadata": {},
     "output_type": "execute_result"
    }
   ],
   "source": [
    "sgd.decision_function(x_train)[0]"
   ]
  },
  {
   "cell_type": "code",
   "execution_count": 18,
   "metadata": {},
   "outputs": [
    {
     "data": {
      "text/plain": [
       "5"
      ]
     },
     "execution_count": 18,
     "metadata": {},
     "output_type": "execute_result"
    }
   ],
   "source": [
    "np.argmax(sgd.decision_function(x_train)[0])"
   ]
  },
  {
   "cell_type": "code",
   "execution_count": 19,
   "metadata": {},
   "outputs": [
    {
     "data": {
      "text/plain": [
       "5.0"
      ]
     },
     "execution_count": 19,
     "metadata": {},
     "output_type": "execute_result"
    }
   ],
   "source": [
    "sgd.predict(x_train)[0]"
   ]
  },
  {
   "cell_type": "markdown",
   "metadata": {},
   "source": [
    "从中我们可以看出，面对多分类问题，SGD分类器使用了**OvA**策略进行多分类。\n",
    "## 3.2 指定多分类问题的策略\n",
    "当然，你也可以强制使用**OvO**策略："
   ]
  },
  {
   "cell_type": "code",
   "execution_count": 20,
   "metadata": {},
   "outputs": [
    {
     "data": {
      "text/plain": [
       "45"
      ]
     },
     "execution_count": 20,
     "metadata": {},
     "output_type": "execute_result"
    }
   ],
   "source": [
    "from sklearn.multiclass import OneVsOneClassifier\n",
    "ovo_sgd = OneVsOneClassifier(SGDClassifier(random_state=7))\n",
    "ovo_sgd.fit(x_train,y_train)\n",
    "len(ovo_sgd.estimators_)"
   ]
  },
  {
   "cell_type": "markdown",
   "metadata": {},
   "source": [
    "## 3.3 误差分析\n",
    "和二分类问题一样，我们怎么判定模型的效果，寻找优化方案呢？误差分析！由于项目本身类别数量并不算多，我们可以使用混淆矩阵来探寻问题原因："
   ]
  },
  {
   "cell_type": "code",
   "execution_count": 21,
   "metadata": {},
   "outputs": [
    {
     "data": {
      "text/plain": [
       "array([[4692,    0,   13,    3,    2,   96,   14,    2,    5,    2],\n",
       "       [   1, 5490,    7,    7,    2,    6,    0,   25,    2,    4],\n",
       "       [   8,   16, 4750,   19,   16,   40,   16,   49,    5,    5],\n",
       "       [  14,    5,  128, 4207,    2,  539,    6,   57,    5,   34],\n",
       "       [   1,    5,   13,    0, 4652,    5,   15,   38,    1,   34],\n",
       "       [   4,    0,    8,   11,    8, 4345,   10,    3,    0,    7],\n",
       "       [   6,    4,   37,    1,   16,   87, 4623,    2,    0,    0],\n",
       "       [   2,    0,   12,    2,    6,    8,    0, 5111,    1,   18],\n",
       "       [  31,  169,  389,  371,   10, 1207,   39,   60, 2392,  111],\n",
       "       [   8,   10,    9,   21,  160,   39,    2,  611,    4, 3967]],\n",
       "      dtype=int64)"
      ]
     },
     "execution_count": 21,
     "metadata": {},
     "output_type": "execute_result"
    }
   ],
   "source": [
    "pred_train = ovo_sgd.predict(x_train_mm)\n",
    "confusion_matrix(y_train,pred_train)"
   ]
  },
  {
   "cell_type": "markdown",
   "metadata": {},
   "source": [
    "我们可以看到数字8、9的问题还是比较多的，尤其是数字8与多个数字的预测重合，我们可以具象化的现实下图例："
   ]
  },
  {
   "cell_type": "code",
   "execution_count": 22,
   "metadata": {},
   "outputs": [
    {
     "data": {
      "text/plain": [
       "<matplotlib.image.AxesImage at 0x2a4d6c0ddc0>"
      ]
     },
     "execution_count": 22,
     "metadata": {},
     "output_type": "execute_result"
    },
    {
     "data": {
      "image/png": "[encoded data removed]",
      "text/plain": [
       "<Figure size 288x288 with 1 Axes>"
      ]
     },
     "metadata": {
      "needs_background": "light"
     },
     "output_type": "display_data"
    }
   ],
   "source": [
    "conf_mx = confusion_matrix(y_train,pred_train)\n",
    "conf_mx = conf_mx/conf_mx.sum(axis=1)\n",
    "np.fill_diagonal(conf_mx,0)\n",
    "plt.matshow(conf_mx,cmap='gray')"
   ]
  },
  {
   "cell_type": "markdown",
   "metadata": {},
   "source": [
    "啊哈，除了8，9以外，，数字3也有很多被误识别了成了5，你看画图明显会清晰很多呢。\n",
    "# 4 多标签分类\n",
    "上面我们碰到的实际问题都是将一条数据分类为一个类别，我们现在来挑战下一个数据有一或多个类别的标签的问题。\n",
    "## 4.1 多标签建模\n",
    "我们将上面的标签**y**追加一个奇偶标签："
   ]
  },
  {
   "cell_type": "code",
   "execution_count": 23,
   "metadata": {},
   "outputs": [
    {
     "data": {
      "text/plain": [
       "array([[0., 0.],\n",
       "       [3., 1.],\n",
       "       [8., 0.]])"
      ]
     },
     "execution_count": 23,
     "metadata": {},
     "output_type": "execute_result"
    }
   ],
   "source": [
    "y_multilabel = np.c_[y,(y%2==1)] # np.r_:按列连接两个矩阵;np.c_:按行连接两个矩阵\n",
    "y_multilabel[0:3]"
   ]
  },
  {
   "cell_type": "code",
   "execution_count": 24,
   "metadata": {},
   "outputs": [
    {
     "data": {
      "text/plain": [
       "KNeighborsClassifier()"
      ]
     },
     "execution_count": 24,
     "metadata": {},
     "output_type": "execute_result"
    }
   ],
   "source": [
    "from sklearn.neighbors import KNeighborsClassifier\n",
    "x_train,x_test,y_train,y_test = train_test_split(X,y_multilabel,test_size=0.3,random_state=7)\n",
    "\n",
    "mm = MinMaxScaler()\n",
    "x_train_mm = mm.fit_transform(x_train)\n",
    "y_train_mm = mm.transform(x_test)\n",
    "\n",
    "knn = KNeighborsClassifier(n_neighbors=5) # knn支持多标签分类\n",
    "knn.fit(x_train_mm,y_train)"
   ]
  },
  {
   "cell_type": "code",
   "execution_count": 25,
   "metadata": {},
   "outputs": [
    {
     "data": {
      "text/plain": [
       "array([5., 1.])"
      ]
     },
     "execution_count": 25,
     "metadata": {},
     "output_type": "execute_result"
    }
   ],
   "source": [
    "y_train[0]"
   ]
  },
  {
   "cell_type": "code",
   "execution_count": 26,
   "metadata": {},
   "outputs": [
    {
     "data": {
      "text/plain": [
       "array([[5., 1.]])"
      ]
     },
     "execution_count": 26,
     "metadata": {},
     "output_type": "execute_result"
    }
   ],
   "source": [
    "knn.predict(x_train_mm[0].reshape(1,-1))"
   ]
  },
  {
   "cell_type": "markdown",
   "metadata": {},
   "source": [
    "## 4.2 效果评估\n",
    "对于多标签分类器效果评估，有一种简单的方法就是继承二分类器的量度标准，将各标签看成独立问题计算度量值，并计算均值作为评价指标，当然也可以依据实际问题，使用叠加标签权重的度量标准加权和。"
   ]
  },
  {
   "cell_type": "code",
   "execution_count": null,
   "metadata": {},
   "outputs": [],
   "source": [
    "pred_test = knn.predict(x_test_mm)"
   ]
  },
  {
   "cell_type": "code",
   "execution_count": null,
   "metadata": {},
   "outputs": [],
   "source": [
    "f1_score(y_train, y_train_knn_pred, average=\"macro\") # weighted"
   ]
  },
  {
   "cell_type": "code",
   "execution_count": 1,
   "metadata": {},
   "outputs": [],
   "source": [
    "y_train_knn_pred = cross_val_predict(knn_clf, X_train, y_train, cv=3)\n",
    "f1_score(y_train, y_train_knn_pred, average=\"macro\") # weighted"
   ]
  },
  {
   "cell_type": "markdown",
   "metadata": {},
   "source": [
    "# 5 多输出分类\n",
    "我们用一个图片清楚噪点的小案例来简单体验下，关于现实中这个问题更多的是思路整合，比如，你也可以用多个模型组合来解决。"
   ]
  },
  {
   "cell_type": "code",
   "execution_count": 38,
   "metadata": {},
   "outputs": [
    {
     "data": {
      "text/plain": [
       "KNeighborsClassifier(n_neighbors=3)"
      ]
     },
     "execution_count": 38,
     "metadata": {},
     "output_type": "execute_result"
    }
   ],
   "source": [
    "# 生成噪点\n",
    "noise_train = np.random.randint(0,100,(len(x_train),784))\n",
    "noise_test = np.random.randint(0,100,(len(x_test),784))\n",
    "# 特征追加噪点\n",
    "x_train_with_noise = x_train + noise_train\n",
    "x_test_with_noise = x_test + noise_test\n",
    "y_train = x_train\n",
    "y_test = x_test\n",
    "# 建立模型\n",
    "knn = KNeighborsClassifier(n_neighbors=3) \n",
    "knn.fit(x_train_with_noise,y_train)"
   ]
  },
  {
   "cell_type": "code",
   "execution_count": 45,
   "metadata": {},
   "outputs": [
    {
     "data": {
      "text/plain": [
       "<matplotlib.image.AxesImage at 0x2a4aaff0a90>"
      ]
     },
     "execution_count": 45,
     "metadata": {},
     "output_type": "execute_result"
    },
    {
     "data": {
      "image/png": "[encoded data removed]",
      "text/plain": [
       "<Figure size 432x288 with 1 Axes>"
      ]
     },
     "metadata": {
      "needs_background": "light"
     },
     "output_type": "display_data"
    }
   ],
   "source": [
    "pred_sample = knn.predict(x_test_with_noise[0].reshape(1,-1))\n",
    "plt.imshow(x_test_with_noise[0].reshape(28,-1),cmap='gray')"
   ]
  },
  {
   "cell_type": "code",
   "execution_count": 46,
   "metadata": {},
   "outputs": [
    {
     "data": {
      "text/plain": [
       "<matplotlib.image.AxesImage at 0x2a4aaf273a0>"
      ]
     },
     "execution_count": 46,
     "metadata": {},
     "output_type": "execute_result"
    },
    {
     "data": {
      "image/png": "[encoded data removed]",
      "text/plain": [
       "<Figure size 432x288 with 1 Axes>"
      ]
     },
     "metadata": {
      "needs_background": "light"
     },
     "output_type": "display_data"
    }
   ],
   "source": [
    "plt.imshow(pred_sample[0].reshape(28,-1),cmap='gray')"
   ]
  }
 ],
 "metadata": {
  "kernelspec": {
   "display_name": "Python 3",
   "language": "python",
   "name": "python3"
  },
  "language_info": {
   "codemirror_mode": {
    "name": "ipython",
    "version": 3
   },
   "file_extension": ".py",
   "mimetype": "text/x-python",
   "name": "python",
   "nbconvert_exporter": "python",
   "pygments_lexer": "ipython3",
   "version": "3.8.5"
  }
 },
 "nbformat": 4,
 "nbformat_minor": 4
}
