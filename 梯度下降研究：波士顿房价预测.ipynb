{
 "cells": [
  {
   "cell_type": "code",
   "execution_count": 1,
   "metadata": {},
   "outputs": [],
   "source": [
    "import math\n",
    "import numpy as np\n",
    "import pandas as pd\n",
    "from sklearn.datasets import load_boston\n",
    "from sklearn.model_selection import train_test_split\n",
    "from sklearn.preprocessing import MinMaxScaler # StandardScaler\n",
    "from sklearn.metrics import r2_score\n",
    "from matplotlib import pyplot as plt"
   ]
  },
  {
   "cell_type": "markdown",
   "metadata": {},
   "source": [
    "# 设计思路 v1.0\n",
    "神经网络构建线性回归的逻辑：\n",
    "1. 初始化线性回归方程，使用随机参数（数量与输入特征一致）以便后续迭代优化。\n",
    "2. 利用输入特征，基于初始化的方程计算预测结果\n",
    "3. 计算损失函数（回归：均方误差/分类：交叉熵），评估预测值与真实值偏差\n",
    "4. 基于梯度 * 学习率逐步优化参数，并重新进行步骤2、3\n",
    "5. 重复步骤4，直到损失函数值收敛"
   ]
  },
  {
   "cell_type": "code",
   "execution_count": 12,
   "metadata": {},
   "outputs": [],
   "source": [
    "class NetWork(object):\n",
    "    def __init__(self,num_nodes):\n",
    "        np.random.seed(0)\n",
    "        self.w = np.random.randn(num_nodes,1) # narray\n",
    "        self.b = np.array([[0]])       \n",
    "# 前向计算\n",
    "    def forward(self,x):\n",
    "        z = np.dot(x,self.w) + self.b\n",
    "        return z\n",
    "# 损失函数\n",
    "    def loss(self,x,y):\n",
    "        z = self.forward(x)\n",
    "        cost = np.mean((z - y)**2)\n",
    "        return cost\n",
    "# 梯度下降\n",
    "    def gradientDescent(self,x,y,eta):\n",
    "        gap = self.forward(x) - y\n",
    "        gradient_w = np.mean(gap * x,axis=0)\n",
    "        gradient_w = gradient_w[:,np.newaxis] # 转成 n*1的narray\n",
    "        gradient_b = np.mean(gap,axis=0)\n",
    "        self.w = self.w - eta * gradient_w\n",
    "        self.b = self.b - eta * gradient_b\n",
    "# 训练模型\n",
    "    def train(self,x,y,iterations=100,eta=0.01):\n",
    "        losses = []\n",
    "        step = iterations/5\n",
    "        for i in range(iterations):\n",
    "            l = self.loss(x,y)\n",
    "            self.gradientDescent(x,y,eta)\n",
    "            if (i+1)%step == 0:\n",
    "                print('iterations: %s,loss: %s.' % (i+1,l))\n",
    "            losses.append(l)\n",
    "        plot_x = np.arange(len(losses))\n",
    "        plot_y = np.array(losses)\n",
    "        plt.plot(plot_x, plot_y)\n",
    "        plt.show() # 画出损失函数的变化趋势\n",
    "        return self.w,self.b,losses\n",
    "# 预测数据\n",
    "    def predict(self,x,y):\n",
    "        z = self.forward(x)\n",
    "        print(r2_score(y,z))\n",
    "        return z"
   ]
  },
  {
   "cell_type": "markdown",
   "metadata": {},
   "source": [
    "# 设计思路 v2.0\n",
    "基于 **设计思路v1.0** 优化步骤4中 **梯度下降** 的计算，大数据集全量计算的性能不高，梯度下降每次都有学习率控制，只下降一点点，所以大体方向准确的话,单词训练可以使用小样本计算加速迭代，同时打乱原数据顺序防止对结尾数据过拟合，形成 **随机梯度下降**过程。"
   ]
  },
  {
   "cell_type": "code",
   "execution_count": 39,
   "metadata": {},
   "outputs": [],
   "source": [
    "class NetWork2(object):\n",
    "    def __init__(self,num_nodes):\n",
    "        np.random.seed(0)\n",
    "        self.w = np.random.randn(num_nodes,1) # narray\n",
    "        self.b = np.array([[0]])       \n",
    "# 前向计算\n",
    "    def forward(self,x):\n",
    "        z = np.dot(x,self.w) + self.b\n",
    "        return z\n",
    "# 损失函数\n",
    "    def loss(self,x,y):\n",
    "        z = self.forward(x)\n",
    "        cost = np.mean((z - y)**2)\n",
    "        return cost\n",
    "# 梯度下降\n",
    "    def gradientDescent(self,x,y,eta):\n",
    "        gap = self.forward(x) - y\n",
    "        gradient_w = np.mean(gap * x,axis=0)\n",
    "        gradient_w = gradient_w[:,np.newaxis] # 转成 n*1的narray\n",
    "        gradient_b = np.mean(gap,axis=0)\n",
    "        self.w = self.w - eta * gradient_w\n",
    "        self.b = self.b - eta * gradient_b\n",
    "# 训练模型\n",
    "    def train(self,x,y,num_epochs,batch_size,eta=0.01):\n",
    "        losses = []\n",
    "        data = np.append(x,y,axis=1)\n",
    "        for epoch_id in range(num_epochs):\n",
    "            np.random.shuffle(data)\n",
    "            mini_batches = [data[i:i+batch_size] for i in range(0,len(x),batch_size)]\n",
    "            for mini_batch in mini_batches:\n",
    "                x_batch,y_batch = np.split(mini_batch, [-1], axis=1)\n",
    "                l = self.loss(x_batch,y_batch)\n",
    "                self.gradientDescent(x_batch,y_batch,eta)\n",
    "                losses.append(l) \n",
    "            print('Epoch {:3d}, loss_last = {:.4f}'.format(epoch_id,l))\n",
    "        plot_x = np.arange(len(losses))\n",
    "        plot_y = np.array(losses)\n",
    "        plt.plot(plot_x, plot_y)\n",
    "        plt.show()\n",
    "        return self.w,self.b,losses\n",
    "# 预测数据\n",
    "    def predict(self,x,y):\n",
    "        z = self.forward(x)\n",
    "        print(r2_score(y,z))\n",
    "        return z"
   ]
  },
  {
   "cell_type": "markdown",
   "metadata": {},
   "source": [
    "# 实战验证\n",
    "## 导入数据"
   ]
  },
  {
   "cell_type": "code",
   "execution_count": 4,
   "metadata": {},
   "outputs": [],
   "source": [
    "x, y = load_boston(return_X_y=True) # ['CRIM','ZN','INDUS','CHAS','NOX','RM','AGE','DIS','RAD','TAX','PTRATIO','B','LSTAT','MEDV' ]\n",
    "y = y[:,np.newaxis]"
   ]
  },
  {
   "cell_type": "markdown",
   "metadata": {},
   "source": [
    "## 划分数据"
   ]
  },
  {
   "cell_type": "code",
   "execution_count": 5,
   "metadata": {},
   "outputs": [],
   "source": [
    "x_train,x_test,y_train,y_test = train_test_split(x,y,test_size=0.3,random_state=11)"
   ]
  },
  {
   "cell_type": "markdown",
   "metadata": {},
   "source": [
    "## 归一化"
   ]
  },
  {
   "cell_type": "code",
   "execution_count": 6,
   "metadata": {},
   "outputs": [],
   "source": [
    "pre_mm = MinMaxScaler()\n",
    "x_train_pre = pre_mm.fit_transform(x_train) # inverse_transform\n",
    "x_test_pre = pre_mm.transform(x_test)"
   ]
  },
  {
   "cell_type": "markdown",
   "metadata": {},
   "source": [
    "# 训练与预测"
   ]
  },
  {
   "cell_type": "code",
   "execution_count": 46,
   "metadata": {},
   "outputs": [
    {
     "name": "stdout",
     "output_type": "stream",
     "text": [
      "iterations: 70,loss: 46.88809116569661.\n",
      "iterations: 140,loss: 37.69788671643564.\n",
      "iterations: 210,loss: 32.46566915011091.\n",
      "iterations: 280,loss: 29.192723638885493.\n",
      "iterations: 350,loss: 27.07662049377755.\n"
     ]
    },
    {
     "data": {
      "image/png": "[encoded data removed]",
      "text/plain": [
       "<Figure size 432x288 with 1 Axes>"
      ]
     },
     "metadata": {
      "needs_background": "light"
     },
     "output_type": "display_data"
    }
   ],
   "source": [
    "net = NetWork(13)\n",
    "w,b,losses = net.train(x_train_pre,y_train,iterations=350,eta=0.1)"
   ]
  },
  {
   "cell_type": "code",
   "execution_count": 45,
   "metadata": {
    "scrolled": false
   },
   "outputs": [
    {
     "name": "stdout",
     "output_type": "stream",
     "text": [
      "Epoch   0, loss_last = 95.4529\n",
      "Epoch   1, loss_last = 4.0923\n",
      "Epoch   2, loss_last = 11.6994\n",
      "Epoch   3, loss_last = 9.2706\n",
      "Epoch   4, loss_last = 11.6116\n",
      "Epoch   5, loss_last = 15.4811\n",
      "Epoch   6, loss_last = 4.0572\n",
      "Epoch   7, loss_last = 36.2199\n",
      "Epoch   8, loss_last = 10.1292\n",
      "Epoch   9, loss_last = 1.9317\n"
     ]
    },
    {
     "data": {
      "image/png": "[encoded data removed]",
      "text/plain": [
       "<Figure size 432x288 with 1 Axes>"
      ]
     },
     "metadata": {
      "needs_background": "light"
     },
     "output_type": "display_data"
    }
   ],
   "source": [
    "net2 = NetWork2(13)\n",
    "w,b,losses = net2.train(x_train_pre,y_train,num_epochs=10,batch_size=10,eta=0.1)"
   ]
  },
  {
   "cell_type": "code",
   "execution_count": 47,
   "metadata": {},
   "outputs": [
    {
     "name": "stdout",
     "output_type": "stream",
     "text": [
      "0.6572832638199209\n"
     ]
    }
   ],
   "source": [
    "z = net.predict(x_test_pre,y_test)"
   ]
  },
  {
   "cell_type": "code",
   "execution_count": 48,
   "metadata": {},
   "outputs": [
    {
     "name": "stdout",
     "output_type": "stream",
     "text": [
      "0.6628166077728521\n"
     ]
    }
   ],
   "source": [
    "z = net2.predict(x_test_pre,y_test)"
   ]
  },
  {
   "cell_type": "markdown",
   "metadata": {},
   "source": [
    "随机梯度下降加快了训练过程，但是对于规律性比较强的数据，梯度下降比随机梯度下降效果要好。\n",
    "# 高阶挑战\n",
    "用代码实现两层的神经网络的梯度传播，中间层的尺寸为13"
   ]
  },
  {
   "cell_type": "code",
   "execution_count": null,
   "metadata": {},
   "outputs": [],
   "source": []
  }
 ],
 "metadata": {
  "kernelspec": {
   "display_name": "Python 3",
   "language": "python",
   "name": "python3"
  },
  "language_info": {
   "codemirror_mode": {
    "name": "ipython",
    "version": 3
   },
   "file_extension": ".py",
   "mimetype": "text/x-python",
   "name": "python",
   "nbconvert_exporter": "python",
   "pygments_lexer": "ipython3",
   "version": "3.8.5"
  }
 },
 "nbformat": 4,
 "nbformat_minor": 4
}
