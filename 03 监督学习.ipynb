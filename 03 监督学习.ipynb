{
 "metadata": {
  "language_info": {
   "codemirror_mode": {
    "name": "ipython",
    "version": 3
   },
   "file_extension": ".py",
   "mimetype": "text/x-python",
   "name": "python",
   "nbconvert_exporter": "python",
   "pygments_lexer": "ipython3",
   "version": "3.8.5-final"
  },
  "orig_nbformat": 2,
  "kernelspec": {
   "name": "python3",
   "display_name": "Python 3",
   "language": "python"
  }
 },
 "nbformat": 4,
 "nbformat_minor": 2,
 "cells": [
  {
   "source": [
    "# 2 监督学习\n",
    "## 2.1 分类 & 回归\n",
    "\n",
    "回归：预测连续值\n",
    "所以我们如何解决这些问题？\n",
    "线性回归（普通最小二乘）\n",
    "梯度下降：习得参数\n",
    "过拟合\n",
    "这就完成了\n",
    "练习材料和扩展阅读\n",
    "2.1a 线性回归\n",
    "2.1b 实现梯度下降"
   ],
   "cell_type": "markdown",
   "metadata": {}
  }
 ]
}